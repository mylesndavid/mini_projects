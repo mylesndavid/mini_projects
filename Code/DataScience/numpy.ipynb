{
 "cells": [
  {
   "cell_type": "code",
   "execution_count": null,
   "metadata": {},
   "outputs": [],
   "source": [
    "import numpy as np"
   ]
  },
  {
   "cell_type": "code",
   "execution_count": 28,
   "metadata": {},
   "outputs": [],
   "source": [
    "ages_list = [10,5,8,32,65,43,90,100]\n",
    "\n",
    "ages = np.array([ages_list])"
   ]
  },
  {
   "cell_type": "code",
   "execution_count": 12,
   "metadata": {},
   "outputs": [
    {
     "name": "stdout",
     "output_type": "stream",
     "text": [
      "[array([10,  5,  8, 32, 65, 43])]\n"
     ]
    }
   ],
   "source": [
    "print([ages])"
   ]
  },
  {
   "cell_type": "code",
   "execution_count": 29,
   "metadata": {},
   "outputs": [
    {
     "name": "stdout",
     "output_type": "stream",
     "text": [
      "Size: 8\n",
      "Shape: (1, 8)\n",
      "Type: int32\n"
     ]
    }
   ],
   "source": [
    "print(f'Size: {ages.size}')\n",
    "print(f'Shape: {ages.shape}')\n",
    "print(f'Type: {ages.dtype}')"
   ]
  },
  {
   "cell_type": "code",
   "execution_count": 20,
   "metadata": {},
   "outputs": [
    {
     "data": {
      "text/plain": [
       "array([[ 10,   5,   8,  32],\n",
       "       [ 65,  43,  90, 100]])"
      ]
     },
     "execution_count": 20,
     "metadata": {},
     "output_type": "execute_result"
    }
   ],
   "source": [
    "ages.reshape(2,4)"
   ]
  },
  {
   "cell_type": "code",
   "execution_count": 21,
   "metadata": {},
   "outputs": [],
   "source": [
    "arr = np.array([7,9,65,33,85,99])"
   ]
  },
  {
   "cell_type": "code",
   "execution_count": 35,
   "metadata": {},
   "outputs": [
    {
     "data": {
      "text/plain": [
       "array([['73', '0.5816548899365819', 'Black'],\n",
       "       ['9', '0.22385782253180964', 'White'],\n",
       "       ['66', '0.26259834322409314', 'White'],\n",
       "       ['55', '0.9971766471359637', 'White'],\n",
       "       ['80', '0.18814926455995729', 'Black'],\n",
       "       ['51', '0.09887408013941468', 'Black'],\n",
       "       ['50', '0.05564517298708449', 'Black'],\n",
       "       ['46', '0.2167945213224488', 'Black'],\n",
       "       ['74', '0.6711975688387487', 'White'],\n",
       "       ['46', '0.5451662836443302', 'Black'],\n",
       "       ['97', '0.7610228494647299', 'White'],\n",
       "       ['61', '0.22670763110592074', 'Black'],\n",
       "       ['54', '0.6187409686102281', 'White'],\n",
       "       ['68', '0.6628879071915288', 'White'],\n",
       "       ['63', '0.5070385063375925', 'Black'],\n",
       "       ['12', '0.4166445141838535', 'Black'],\n",
       "       ['50', '0.6667578593199811', 'White'],\n",
       "       ['92', '0.5636585837179167', 'Black'],\n",
       "       ['15', '0.719614398537384', 'White'],\n",
       "       ['78', '0.29641877680917283', 'White'],\n",
       "       ['81', '0.9541306050763984', 'Black'],\n",
       "       ['4', '0.67739474895817', 'White'],\n",
       "       ['36', '0.38723510796910277', 'White'],\n",
       "       ['97', '0.7591631546829947', 'White'],\n",
       "       ['43', '0.6183654508151885', 'White'],\n",
       "       ['4', '0.8928655621917517', 'Black'],\n",
       "       ['39', '0.5847202584026396', 'Black'],\n",
       "       ['71', '0.49301588383842776', 'White'],\n",
       "       ['76', '0.9101495663830885', 'White'],\n",
       "       ['58', '0.2217273245697201', 'Black'],\n",
       "       ['65', '0.6829018136008472', 'Black'],\n",
       "       ['1', '0.5995968450599323', 'White'],\n",
       "       ['27', '0.8213017551605886', 'White'],\n",
       "       ['4', '0.9058889654788843', 'White'],\n",
       "       ['67', '0.22057777565738013', 'Black'],\n",
       "       ['43', '0.3991711410571517', 'Black'],\n",
       "       ['28', '0.201337810171751', 'White'],\n",
       "       ['73', '0.6382775249004988', 'Black'],\n",
       "       ['34', '0.3894214331651371', 'White'],\n",
       "       ['9', '0.5589844858957904', 'Black'],\n",
       "       ['61', '0.5798457304123488', 'Black'],\n",
       "       ['10', '0.903320348899902', 'Black'],\n",
       "       ['69', '0.28403912467292647', 'Black'],\n",
       "       ['21', '0.6539289785782737', 'White'],\n",
       "       ['88', '0.39890870886843033', 'White'],\n",
       "       ['35', '0.8006310139586454', 'White'],\n",
       "       ['13', '0.9671845570945897', 'Black'],\n",
       "       ['16', '0.9167971353497829', 'White'],\n",
       "       ['15', '0.12417743518573121', 'Black'],\n",
       "       ['34', '0.9473989230552798', 'Black']], dtype='<U32')"
      ]
     },
     "execution_count": 35,
     "metadata": {},
     "output_type": "execute_result"
    }
   ],
   "source": [
    "c1 = np.random.randint(0,100,50)\n",
    "c2 = np.random.rand(50)\n",
    "c3 = np.random.choice([\"Black\",\"White\"],50)\n",
    "\n",
    "data = np.column_stack((c1,c2,c3)).flatten()\n",
    "data.reshape(int(data.size/3),3)"
   ]
  },
  {
   "cell_type": "code",
   "execution_count": 37,
   "metadata": {},
   "outputs": [
    {
     "data": {
      "text/plain": [
       "array([ 0,  1,  2,  3,  4,  5,  6,  7,  8,  9, 10, 11, 12, 13, 14, 15, 16,\n",
       "       17, 18, 19, 20, 21, 22, 23, 24, 25, 26, 27, 28, 29, 30, 31, 32, 33,\n",
       "       34, 35, 36, 37, 38, 39, 40, 41, 42, 43, 44, 45, 46, 47, 48, 49, 50,\n",
       "       51, 52, 53, 54])"
      ]
     },
     "execution_count": 37,
     "metadata": {},
     "output_type": "execute_result"
    }
   ],
   "source": [
    "np.arange(0,50)"
   ]
  }
 ],
 "metadata": {
  "kernelspec": {
   "display_name": "base",
   "language": "python",
   "name": "python3"
  },
  "language_info": {
   "codemirror_mode": {
    "name": "ipython",
    "version": 3
   },
   "file_extension": ".py",
   "mimetype": "text/x-python",
   "name": "python",
   "nbconvert_exporter": "python",
   "pygments_lexer": "ipython3",
   "version": "3.8.8"
  },
  "orig_nbformat": 4
 },
 "nbformat": 4,
 "nbformat_minor": 2
}
