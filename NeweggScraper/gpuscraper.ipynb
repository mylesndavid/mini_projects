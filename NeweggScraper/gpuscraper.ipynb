{
 "cells": [
  {
   "cell_type": "code",
   "execution_count": 10,
   "metadata": {},
   "outputs": [],
   "source": [
    "import requests as req\n",
    "from bs4 import BeautifulSoup as bs\n",
    "import pandas as pd\n",
    "from selenium import webdriver\n",
    "import selenium.webdriver.common.by as By\n",
    "import selenium.webdriver.common.keys as Keys\n",
    "import json\n"
   ]
  },
  {
   "cell_type": "code",
   "execution_count": null,
   "metadata": {},
   "outputs": [],
   "source": [
    "browser = webdriver.Chrome()\n",
    "\n",
    "browser.get(\"https://www.newegg.com/p/pl?d=graphics+cards\")\n",
    "\n",
    "browser.find_element(By.__name__,'')"
   ]
  },
  {
   "cell_type": "code",
   "execution_count": 44,
   "metadata": {},
   "outputs": [],
   "source": [
    "response = req.get(\"https://www.newegg.com/p/pl?d=graphics+cards\")\n",
    "\n",
    "soup = bs(response.content, 'html.parser')\n",
    "\n",
    "soup.find_all(\"div\", attrs={\"class\": \"item-cell\"})\n",
    "item_array = []\n",
    "\n",
    "for div in soup.find_all(\"div\", attrs={\"class\": \"item-cell\"}):\n",
    "\n",
    "    try:\n",
    "        title = div.find(\"a\", attrs={\"class\": \"item-title\"}).text\n",
    "    except:\n",
    "        \"\"\n",
    "    price_obj = div.find(\"li\", attrs={\"class\": \"price-current\"})\n",
    "    try:\n",
    "        cents = price_obj.find(\"sup\").text\n",
    "    except:\n",
    "        \"No cents value\"\n",
    "    try:\n",
    "        price = \"$\"+price_obj.find(\"strong\").text+cents\n",
    "    except:\n",
    "        \"\"\n",
    "    \n",
    "    url = div.find(\"a\").get(\"href\").replace(\" \",\"\")\n",
    "\n",
    "    item_array.append([title,price,url])"
   ]
  },
  {
   "cell_type": "code",
   "execution_count": 37,
   "metadata": {},
   "outputs": [
    {
     "data": {
      "text/plain": [
       "['GIGABYTE GeForce GT 730 DirectX 12 GV-N730D5-2GL 2GB 64-Bit GDDR5 PCI Express 2.0 x8 Video Card',\n",
       " '89',\n",
       " 'https://www.newegg.com/p/1FT-000A-00479?Item=9SIAPNMHF02747&Description=graphicscards&cm_re=graphics_cards-_-9SIAPNMHF02747-_-Product&cm_sp=SP-_-1086661-_-0-_-3-_-9SIAPNMHF02747-_-graphicscards-_-card|graphic-_-4']"
      ]
     },
     "execution_count": 37,
     "metadata": {},
     "output_type": "execute_result"
    }
   ],
   "source": [
    "item_array[3]"
   ]
  },
  {
   "cell_type": "code",
   "execution_count": 45,
   "metadata": {},
   "outputs": [],
   "source": [
    "df = pd.DataFrame(data=item_array,columns=['Title','Price','Url'])"
   ]
  },
  {
   "cell_type": "code",
   "execution_count": 48,
   "metadata": {},
   "outputs": [],
   "source": [
    "df.to_csv('graphicscards.csv')"
   ]
  }
 ],
 "metadata": {
  "interpreter": {
   "hash": "aee8b7b246df8f9039afb4144a1f6fd8d2ca17a180786b69acc140d282b71a49"
  },
  "kernelspec": {
   "display_name": "Python 3.11.1 64-bit",
   "language": "python",
   "name": "python3"
  },
  "language_info": {
   "codemirror_mode": {
    "name": "ipython",
    "version": 3
   },
   "file_extension": ".py",
   "mimetype": "text/x-python",
   "name": "python",
   "nbconvert_exporter": "python",
   "pygments_lexer": "ipython3",
   "version": "3.11.1"
  },
  "orig_nbformat": 4
 },
 "nbformat": 4,
 "nbformat_minor": 2
}
