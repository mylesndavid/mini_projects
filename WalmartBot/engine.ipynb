{
 "cells": [
  {
   "cell_type": "code",
   "execution_count": 25,
   "metadata": {},
   "outputs": [],
   "source": [
    "import json\n",
    "import requests as req\n",
    "from bs4 import BeautifulSoup as bs\n",
    "from urllib.parse import urlencode"
   ]
  },
  {
   "cell_type": "code",
   "execution_count": 26,
   "metadata": {},
   "outputs": [],
   "source": [
    "SCRAPEOPS_API_KEY = '923784cf-9bce-4662-b322-db42811584fa'\n",
    "\n",
    "def scrapeops_url(url):\n",
    "    payload = {'api_key': SCRAPEOPS_API_KEY, 'url': url, 'country': 'us'}\n",
    "    proxy_url = 'https://proxy.scrapeops.io/v1/?' + urlencode(payload)\n",
    "    return proxy_url"
   ]
  },
  {
   "cell_type": "code",
   "execution_count": 27,
   "metadata": {},
   "outputs": [],
   "source": [
    "def scrape_call(search):\n",
    "    search = search.replace(\" \", \"+\")\n",
    "    url = 'https://www.walmart.com/search?q='+ search + '&facet=fulfillment_method_in_store%3AIn-store'\n",
    "    print(url)\n",
    "    response = req.get(scrapeops_url(url))\n",
    "    soup = bs(response.content, 'html.parser')\n",
    "    return soup"
   ]
  },
  {
   "cell_type": "code",
   "execution_count": 28,
   "metadata": {},
   "outputs": [],
   "source": [
    "class product:\n",
    "    def __init__(self, name, price, location):\n",
    "        self.name = name\n",
    "        self.price = price\n",
    "        self.location = location"
   ]
  },
  {
   "cell_type": "code",
   "execution_count": 42,
   "metadata": {},
   "outputs": [],
   "source": [
    "def locate_item(item):\n",
    "    soup = scrape_call(item)\n",
    "    script_tag = soup.find(\"script\", {\"id\": \"__NEXT_DATA__\"})\n",
    "    json_blob = json.loads(script_tag.get_text())\n",
    "\n",
    "    raw_product_data = json_blob[\"props\"][\"pageProps\"][\"initialData\"]['searchResult']['itemStacks'][0]['items'][0]\n",
    "\n",
    "    name = raw_product_data['name']\n",
    "    price = raw_product_data['price']\n",
    "    try:\n",
    "        location = raw_product_data['productLocation'][0]['displayValue']\n",
    "    except:\n",
    "        print('No location found for '+ name)\n",
    "        location = \"no location found\"\n",
    "\n",
    "    current = product(name,price,location)\n",
    "    return(current)"
   ]
  },
  {
   "cell_type": "code",
   "execution_count": 41,
   "metadata": {},
   "outputs": [
    {
     "name": "stdout",
     "output_type": "stream",
     "text": [
      "https://www.walmart.com/search?q=greatvalue+white+bread&facet=fulfillment_method_in_store%3AIn-store\n",
      "https://www.walmart.com/search?q=frosted+flakes+cereal&facet=fulfillment_method_in_store%3AIn-store\n",
      "No location found forKellogg's Frosted Flakes Breakfast Cereal, Kids Snacks, Original, 24 Oz, Box\n",
      "https://www.walmart.com/search?q=white+rice&facet=fulfillment_method_in_store%3AIn-store\n",
      "Item: Great Value White Sandwich Bread, 20 oz\n",
      "Price: 1.32\n",
      "Location: A14\n",
      "Item: Kellogg's Frosted Flakes Breakfast Cereal, Kids Snacks, Original, 24 Oz, Box\n",
      "Price: 4.98\n",
      "Location: no location found\n",
      "Item: Mahatma Organic White Rice, Extra Long Grain White Rice, 32 oz\n",
      "Price: 3.92\n",
      "Location: A11\n"
     ]
    }
   ],
   "source": [
    "list_of_locations = []\n",
    "with open('shoppinglist.txt','rb')as f:\n",
    "    lines = f.readlines()\n",
    "\n",
    "for item in lines:\n",
    "    list_of_locations.append(locate_item(item.decode().strip()))\n",
    "\n",
    "for object in list_of_locations:\n",
    "    print(\"Item: \" + object.name)\n",
    "    print(\"Price: \" + str(object.price))\n",
    "    print(\"Location: \" + object.location)"
   ]
  }
 ],
 "metadata": {
  "kernelspec": {
   "display_name": "Python 3.11.0 64-bit",
   "language": "python",
   "name": "python3"
  },
  "language_info": {
   "codemirror_mode": {
    "name": "ipython",
    "version": 3
   },
   "file_extension": ".py",
   "mimetype": "text/x-python",
   "name": "python",
   "nbconvert_exporter": "python",
   "pygments_lexer": "ipython3",
   "version": "3.11.0"
  },
  "orig_nbformat": 4,
  "vscode": {
   "interpreter": {
    "hash": "63ab0426e26c0d15be0042204c72fece43b7735671312c452228685993a5bb26"
   }
  }
 },
 "nbformat": 4,
 "nbformat_minor": 2
}
