{
 "cells": [
  {
   "cell_type": "code",
   "execution_count": 22,
   "metadata": {},
   "outputs": [],
   "source": [
    "import json\n",
    "import requests as req\n",
    "import pandas as pd\n",
    "from bs4 import BeautifulSoup as bs\n",
    "from urllib.parse import urlencode\n",
    "from selenium import webdriver\n",
    "import selenium.webdriver.common.by as By\n",
    "import selenium.webdriver.common.keys as Keys\n",
    "import undetected_chromedriver as uc\n",
    "import requests"
   ]
  },
  {
   "cell_type": "code",
   "execution_count": 23,
   "metadata": {},
   "outputs": [],
   "source": [
    "class product:\n",
    "    def __init__(self, name, price, location):\n",
    "        self.name = name\n",
    "        self.price = price\n",
    "        self.location = location"
   ]
  },
  {
   "cell_type": "code",
   "execution_count": 24,
   "metadata": {},
   "outputs": [],
   "source": [
    "#GET WEB INFO\n",
    "\n",
    "def make_call(search):\n",
    "    ac=\"text/html,application/xhtml+xml,application/xml;q=0.9,image/avif,image/webp,image/apng,*/*;q=0.8,application/signed-exchange;v=b3;q=0.9\"\n",
    "    target_url= 'https://www.walmart.com/search?q='+ search +'&facet=fulfillment_method_in_store%3AIn-store'\n",
    "    headers={\"Referer\":\"https://www.google.com\",\"Connection\":\"Keep-Alive\",\"Accept-Language\":\"en-US,en;q=0.9\",\"Accept-Encoding\":\"gzip, deflate, br\",\"Accept\":ac,\"User-Agent\":\"Mozilla/5.0 (Windows NT 10.0; Win64; x64) AppleWebKit/537.36 (KHTML, like Gecko) Chrome/111.0.0.0 Safari/537.36\"}\n",
    "    \n",
    "    resp = requests.get(target_url, headers=headers)\n",
    "    soup = bs(resp.content, 'html.parser')\n",
    "    return soup"
   ]
  },
  {
   "cell_type": "code",
   "execution_count": 25,
   "metadata": {},
   "outputs": [],
   "source": [
    "# search = 'great+value+white+bread'\n",
    "\n",
    "# ac=\"text/html,application/xhtml+xml,application/xml;q=0.9,image/avif,image/webp,image/apng,*/*;q=0.8,application/signed-exchange;v=b3;q=0.9\"\n",
    "# target_url= 'https://www.walmart.com/search?q='+ search +'&facet=fulfillment_method_in_store%3AIn-store'\n",
    "# headers={\"Referer\":\"https://www.google.com\",\"Connection\":\"Keep-Alive\",\"Accept-Language\":\"en-US,en;q=0.9\",\"Accept-Encoding\":\"gzip, deflate, br\",\"Accept\":ac,\"User-Agent\":\"Mozilla/5.0 (Windows NT 10.0; Win64; x64) AppleWebKit/537.36 (KHTML, like Gecko) Chrome/111.0.0.0 Safari/537.36\"}\n",
    "    \n",
    "# resp = requests.get(target_url, headers=headers)\n",
    "# soup = bs(resp.content, 'html.parser')\n",
    "\n",
    "# script_tag = soup.find(\"script\", {\"id\": \"__NEXT_DATA__\"})\n",
    "# json_blob = json.loads(script_tag.get_text())\n",
    "\n",
    "# raw_product_data = json_blob[\"props\"][\"pageProps\"][\"initialData\"]['searchResult']['itemStacks'][0]['items'][0]\n",
    "\n",
    "# raw_product_data"
   ]
  },
  {
   "cell_type": "code",
   "execution_count": 26,
   "metadata": {},
   "outputs": [],
   "source": [
    "#LOCATE ITEM\n",
    "\n",
    "def locate_item(item):\n",
    "    soup = make_call(item)\n",
    "    script_tag = soup.find(\"script\", {\"id\": \"__NEXT_DATA__\"})\n",
    "    json_blob = json.loads(script_tag.get_text())\n",
    "\n",
    "    itemNum = 0\n",
    "    raw_product_data = json_blob[\"props\"][\"pageProps\"][\"initialData\"]['searchResult']['itemStacks'][0]['items'][itemNum]\n",
    "\n",
    "    name = raw_product_data['name']\n",
    "    price = raw_product_data['price']\n",
    "\n",
    "    location = 'null'\n",
    "    while location == 'null':\n",
    "\n",
    "        try:\n",
    "            raw_product_data = json_blob[\"props\"][\"pageProps\"][\"initialData\"]['searchResult']['itemStacks'][0]['items'][itemNum]\n",
    "            location = raw_product_data['productLocation'][0]['displayValue']\n",
    "        except:\n",
    "            location = \"null\"\n",
    "            itemNum += 1\n",
    "    \n",
    "\n",
    "    current = product(name,price,location)\n",
    "    return(current)"
   ]
  },
  {
   "cell_type": "code",
   "execution_count": 27,
   "metadata": {},
   "outputs": [
    {
     "name": "stdout",
     "output_type": "stream",
     "text": [
      "                                                Item  Price Location\n",
      "1  Fresh Jalapeno Pepper, Approx. 3-5 per 0.25 Pound   0.34       A1\n",
      "0  Rotel Original Diced Tomatoes and Green Chilie...   1.24       A8\n",
      "5  Tresemme Extra Hold Hair Spray Anti-Frizz Hair...   6.98      G14\n",
      "2  Neutrogena Hydro Boost Hydrating Facial Cleans...  10.47      G15\n",
      "3  Purina One Dry Dog Food for Adult Dogs Chicken...  30.28       J8\n",
      "4  Liquipel Powertek Neon Party USB Type C Charge...   9.88      K21\n"
     ]
    },
    {
     "name": "stderr",
     "output_type": "stream",
     "text": [
      "C:\\Users\\myles\\AppData\\Local\\Temp\\ipykernel_23212\\2564230498.py:14: FutureWarning: The frame.append method is deprecated and will be removed from pandas in a future version. Use pandas.concat instead.\n",
      "  df = df.append(df2, ignore_index=True)\n",
      "C:\\Users\\myles\\AppData\\Local\\Temp\\ipykernel_23212\\2564230498.py:14: FutureWarning: The frame.append method is deprecated and will be removed from pandas in a future version. Use pandas.concat instead.\n",
      "  df = df.append(df2, ignore_index=True)\n",
      "C:\\Users\\myles\\AppData\\Local\\Temp\\ipykernel_23212\\2564230498.py:14: FutureWarning: The frame.append method is deprecated and will be removed from pandas in a future version. Use pandas.concat instead.\n",
      "  df = df.append(df2, ignore_index=True)\n",
      "C:\\Users\\myles\\AppData\\Local\\Temp\\ipykernel_23212\\2564230498.py:14: FutureWarning: The frame.append method is deprecated and will be removed from pandas in a future version. Use pandas.concat instead.\n",
      "  df = df.append(df2, ignore_index=True)\n",
      "C:\\Users\\myles\\AppData\\Local\\Temp\\ipykernel_23212\\2564230498.py:14: FutureWarning: The frame.append method is deprecated and will be removed from pandas in a future version. Use pandas.concat instead.\n",
      "  df = df.append(df2, ignore_index=True)\n",
      "C:\\Users\\myles\\AppData\\Local\\Temp\\ipykernel_23212\\2564230498.py:14: FutureWarning: The frame.append method is deprecated and will be removed from pandas in a future version. Use pandas.concat instead.\n",
      "  df = df.append(df2, ignore_index=True)\n"
     ]
    }
   ],
   "source": [
    "#PRINTS DATAFRAME\n",
    "\n",
    "list_of_locations = []\n",
    "with open('shoppinglist.txt','rb')as f:\n",
    "    lines = f.readlines()\n",
    "\n",
    "for item in lines:\n",
    "    list_of_locations.append(locate_item(item.decode().strip()))\n",
    "\n",
    "df = pd.DataFrame(columns=['Item','Price','Location'])\n",
    "\n",
    "for object in list_of_locations:\n",
    "    df2 = {'Item': object.name, 'Price': object.price, 'Location': object.location}\n",
    "    df = df.append(df2, ignore_index=True)\n",
    "\n",
    "df = df.sort_values('Location')\n",
    "print(df)"
   ]
  }
 ],
 "metadata": {
  "kernelspec": {
   "display_name": "Python 3.11.0 64-bit",
   "language": "python",
   "name": "python3"
  },
  "language_info": {
   "codemirror_mode": {
    "name": "ipython",
    "version": 3
   },
   "file_extension": ".py",
   "mimetype": "text/x-python",
   "name": "python",
   "nbconvert_exporter": "python",
   "pygments_lexer": "ipython3",
   "version": "3.11.0"
  },
  "orig_nbformat": 4,
  "vscode": {
   "interpreter": {
    "hash": "63ab0426e26c0d15be0042204c72fece43b7735671312c452228685993a5bb26"
   }
  }
 },
 "nbformat": 4,
 "nbformat_minor": 2
}
